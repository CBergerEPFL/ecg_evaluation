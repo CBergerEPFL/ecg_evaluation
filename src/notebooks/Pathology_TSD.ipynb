{
 "cells": [
  {
   "cell_type": "code",
   "execution_count": null,
   "metadata": {},
   "outputs": [],
   "source": [
    "import pandas as pd\n",
    "import numpy as np\n",
    "import matplotlib.pyplot as plt\n",
    "import sys\n",
    "import os\n",
    "sys.path.append(os.path.join(os.getcwd(), \"..\"))\n",
    "from metrics.methods.tsd_metrics import TSD_calculator_time_series\n",
    "path_formatted_glasgow = \"/workspaces/ecg_evaluation/data/20221006_physio_quality/ECG_recording\"\n",
    "path_csv_ref_label = \"/workspaces/ecg_evaluation/data/20221006_physio_quality/Notes.txt\""
   ]
  },
  {
   "cell_type": "code",
   "execution_count": null,
   "metadata": {},
   "outputs": [],
   "source": [
    "###Read one file (associated with one pathology):\n",
    "\n",
    "def The_ECG_getter(path_signal,path_label):\n",
    "\n",
    "    df_label = pd.read_csv(path_label,sep = \"\\t\",header = None,names = [\"Characteristic\"])\n",
    "    labels = df_label.to_numpy()\n",
    "    label = np.array([labels[i,0].replace(f\"{i+1}.\",\"\") for i in range(labels.shape[0])])\n",
    "    dico_ECG  = {}\n",
    "    name_lead = ['I','II','III','aVR','aVF','aVL','V1','V2','V3','V4','V5','V6']\n",
    "    for i in range(len(label)):\n",
    "        signal = pd.read_csv(path_signal + f\"/ecg_{i+1}.txt\",sep = \",\",names = name_lead)\n",
    "        signal_np = signal.to_numpy()\n",
    "        dico_ECG[label[i]] = signal_np\n",
    "    return label,dico_ECG,name_lead"
   ]
  },
  {
   "cell_type": "code",
   "execution_count": null,
   "metadata": {},
   "outputs": [],
   "source": [
    "lab,dic_signal,name_lead = The_ECG_getter(path_formatted_glasgow,path_csv_ref_label)\n"
   ]
  },
  {
   "cell_type": "code",
   "execution_count": null,
   "metadata": {},
   "outputs": [],
   "source": [
    "print(lab)\n",
    "print(len(lab))"
   ]
  },
  {
   "cell_type": "code",
   "execution_count": null,
   "metadata": {},
   "outputs": [],
   "source": [
    "def Plot_TSD_signal(signal,lead,interval,patho_name):\n",
    "    t = np.linspace(0,len(signal)/500,len(signal))\n",
    "    Ds,Dm = TSD_calculator_time_series(signal,100,500)\n",
    "    plt.figure()\n",
    "    _,ax = plt.subplots(nrows = 2, ncols=2,figsize=(20,15))\n",
    "    ax[0,0].plot(t,signal.copy(),label = \"TSD score = {0:.2f}\".format(Dm))\n",
    "    ax[0,0].set_title(f\"Time Evolution of Lead {lead} with {patho_name}\")\n",
    "    ax[0,0].set_xlabel(\"Time (sec)\")\n",
    "    ax[0,0].set_ylabel(\"Volatge Amplitude\")\n",
    "    ax[0,0].legend()\n",
    "    ax[0,0].grid()\n",
    "    ax[1,0].plot(np.linspace(0,int(len(Ds)/500),len(Ds)),Ds,label = \"TSD score = {0:.2f}\".format(Dm))\n",
    "    ax[1,0].plot(t,np.ones_like(t)*Dm,\"--k\",label = \"Mean TSD value\")\n",
    "    ax[1,0].set_title(f\"TSD evolution for {lead}  using a segment length of {100}\")\n",
    "    ax[1,0].grid()\n",
    "    ax[1,0].legend()\n",
    "    ax[1,0].set_xlabel(\"Lags\")\n",
    "    ax[1,0].set_ylabel(\"TSD value\")\n",
    "    ax[0,1].plot(t,signal.copy(),label = \"TSD score = {0:.2f}\".format(Dm))\n",
    "    ax[0,1].set_title(f\"Time Evolution of Lead {lead} for an time interval of {interval} with {patho_name}\")\n",
    "    ax[0,1].set_xlabel(\"Time (sec)\")\n",
    "    ax[0,1].set_ylabel(\"Volatge Amplitude\")\n",
    "    ax[0,1].set_xlim(interval)\n",
    "    ax[0,1].legend()\n",
    "    ax[0,1].grid()\n",
    "    ax[1,1].plot(np.linspace(0,int(len(Ds)/500),len(Ds)),Ds,label = \"TSD score = {0:.2f}\".format(Dm))\n",
    "    ax[1,1].set_title(f\"TSD evolution for {lead}  using a segment length of {100} for a time interval of {interval}\")\n",
    "    ax[1,1].grid()\n",
    "    ax[1,1].plot(t,np.ones_like(t)*Dm,\"--k\",label = \"Mean TSD value\")\n",
    "    ax[1,1].legend()\n",
    "    ax[1,1].set_xlim(interval)\n",
    "    ax[1,1].set_xlabel(\"Lags\")\n",
    "    ax[1,1].set_ylabel(\"TSD value\")\n",
    "    plt.show()"
   ]
  },
  {
   "cell_type": "code",
   "execution_count": null,
   "metadata": {},
   "outputs": [],
   "source": [
    "signal = dic_signal[lab[7]]\n",
    "for i in range(len(name_lead)):\n",
    "    Plot_TSD_signal(signal[:,i],name_lead[i],[2,6],lab[7])"
   ]
  }
 ],
 "metadata": {
  "kernelspec": {
   "display_name": "Python 3.10.8 64-bit",
   "language": "python",
   "name": "python3"
  },
  "language_info": {
   "codemirror_mode": {
    "name": "ipython",
    "version": 3
   },
   "file_extension": ".py",
   "mimetype": "text/x-python",
   "name": "python",
   "nbconvert_exporter": "python",
   "pygments_lexer": "ipython3",
   "version": "3.10.12"
  },
  "vscode": {
   "interpreter": {
    "hash": "949777d72b0d2535278d3dc13498b2535136f6dfe0678499012e853ee9abcab1"
   }
  }
 },
 "nbformat": 4,
 "nbformat_minor": 2
}
