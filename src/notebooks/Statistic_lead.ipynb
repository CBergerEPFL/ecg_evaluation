{
 "cells": [
  {
   "cell_type": "code",
   "execution_count": null,
   "metadata": {},
   "outputs": [],
   "source": [
    "from petastorm import make_reader\n",
    "import numpy as np\n",
    "import matplotlib.pyplot as plt\n",
    "from scipy.stats import kurtosis,pearsonr\n",
    "from scipy.signal import periodogram\n",
    "from ecgdetectors import Detectors\n",
    "import pywt\n",
    "from sklearn.metrics import confusion_matrix,auc\n",
    "import sys\n",
    "from sklearn import metrics\n",
    "import pandas as pd\n",
    "import seaborn as sn\n",
    "import os\n",
    "import xarray as xr\n",
    "import warnings\n",
    "from tqdm import tqdm\n",
    "sys.path.append(os.path.join(os.getcwd(), \"..\"))\n",
    "from metrics.methods import Our_SQA_method\n",
    "from shared_utils.utils_data import format_data_to_xarray_2020,format_data_to_xarray\n",
    "warnings.simplefilter(action=\"ignore\", category=RuntimeWarning)\n",
    "path_formatted_glasgow = \"/workspaces/maitrise/data/20220902_data_physio_formatted_merged/merged/dataParquet\"\n",
    "path_petastorm = f\"file:///{path_formatted_glasgow}\"\n",
    "\n",
    "path_formated_cinc2011= \"/workspaces/maitrise/data/20221006_physio_quality/set-a/dataParquet\"\n",
    "path_petastorm_cinc2011 = f\"file:///{path_formated_cinc2011}\"\n",
    "\n",
    "save_path = \"/workspaces/maitrise/results\""
   ]
  },
  {
   "cell_type": "code",
   "execution_count": null,
   "metadata": {},
   "outputs": [],
   "source": [
    "##Load signals patient\n",
    "\n",
    "if not os.path.exists(save_path):\n",
    "    os.makedirs(save_path)\n",
    "\n",
    "os.path.join(save_path,\"\")\n",
    "if not \"ecg_data.nc\" in os.listdir(save_path):\n",
    "    ds_data_2011 = format_data_to_xarray(path_petastorm_cinc2011, save_path)\n",
    "else:\n",
    "    ds_data_2011 = xr.load_dataset(os.path.join(save_path,\"ecg_data.nc\"))\n",
    "\n",
    "save_path = \"/workspaces/maitrise/results\"\n",
    "os.path.join(save_path,\"\")\n",
    "if not \"ecg_data_2020.nc\" in os.listdir(save_path):\n",
    "    ds_data_2020 = format_data_to_xarray_2020(path_petastorm, save_path)\n",
    "else:\n",
    "    ds_data_2020 = xr.load_dataset(os.path.join(save_path,\"ecg_data_2020.nc\"))"
   ]
  },
  {
   "cell_type": "code",
   "execution_count": null,
   "metadata": {},
   "outputs": [],
   "source": [
    "ds_filtered = ds_data_2011.where(ds_data_2011.data_quality != \"unlabeled\").dropna(dim = \"id\")\n",
    "signals = ds_filtered.signal.transpose(\"id\",\"lead_name\",\"time\")\n",
    "\n",
    "np_label = ds_filtered.data_quality.values\n",
    "unacceptable_data = signals[np_label==\"unacceptable\",:,:]\n",
    "acceptable_data = signals[np_label==\"acceptable\",:,:]\n",
    "print(ds_data_2020)"
   ]
  },
  {
   "cell_type": "code",
   "execution_count": null,
   "metadata": {},
   "outputs": [],
   "source": [
    "score_unacceptable_1 = np.array([])\n",
    "score_unacceptable_0 = np.array([])\n",
    "score_acceptable_1 = np.array([])\n",
    "score_acceptable_0 = np.array([])\n",
    "\n",
    "for i in tqdm(range(unacceptable_data.shape[0]),desc =\"Calculating SQA score for each leads of the unacceptable dataset\",disable=not True):\n",
    "    signal_patient=np.array(unacceptable_data[i,:,:])\n",
    "    y_score = Our_SQA_method.SQA_method_lead_score(signal_patient,500)\n",
    "    score_unacceptable_1 = np.concatenate((score_unacceptable_1,y_score[:,1]),axis = None)\n",
    "    score_unacceptable_0 = np.concatenate((score_unacceptable_0,y_score[:,0]),axis = None)\n",
    "\n",
    "for i in tqdm(range(acceptable_data.shape[0]),desc =\"Calculating SQA score for each leads of the acceptable dataset\",disable=not True):\n",
    "    signal_patient= np.array(acceptable_data[i,:,:])\n",
    "    y_score = Our_SQA_method.SQA_method_lead_score(signal_patient,500)\n",
    "    score_acceptable_1 = np.concatenate((score_acceptable_1,y_score[:,1]),axis = None)\n",
    "    score_acceptable_0 = np.concatenate((score_acceptable_0,y_score[:,0]),axis = None)\n"
   ]
  },
  {
   "cell_type": "code",
   "execution_count": null,
   "metadata": {},
   "outputs": [],
   "source": [
    "acceptable_1_hist = pd.DataFrame(score_acceptable_1,columns = [\"1\"])\n",
    "acceptable_0_hist = pd.DataFrame(score_acceptable_0,columns = [\"0\"])\n",
    "\n",
    "unacceptable_1_hist = pd.DataFrame(score_unacceptable_1,columns = [\"1\"])\n",
    "unacceptable_0_hist = pd.DataFrame(score_unacceptable_0,columns = [\"0\"])"
   ]
  },
  {
   "cell_type": "code",
   "execution_count": null,
   "metadata": {},
   "outputs": [],
   "source": [
    "acceptable_set = acceptable_1_hist[\"1\"]\n",
    "unacceptable_set = acceptable_0_hist[\"0\"]\n",
    "\n",
    "sn.histplot(acceptable_set, kde=True, color = 'darkblue',label = \"Acceptable\")\n",
    "plt.axvline(score_acceptable_1.mean(), color='b', linestyle='dashed', linewidth=1,label =\"mean value : {:.2f}\".format((score_acceptable_1.mean()).mean()))\n",
    "sn.histplot(unacceptable_set, kde=True, color = \"darkorange\",label = \"Unacceptable\")\n",
    "plt.axvline(score_acceptable_0.mean(), color='orange', linestyle='dashed', linewidth=1,label =\"mean value : {:.2f}\".format((score_acceptable_0.mean()).mean()))\n",
    "plt.legend(title = 'Quality')\n",
    "plt.title('Density Plot for each classes (1 = acceptable)')\n",
    "plt.xlabel('SQA scores')\n",
    "plt.ylabel('Density')"
   ]
  },
  {
   "cell_type": "code",
   "execution_count": null,
   "metadata": {},
   "outputs": [],
   "source": [
    "acceptable_set = unacceptable_1_hist[\"1\"]\n",
    "unacceptable_set = unacceptable_0_hist[\"0\"]\n",
    "\n",
    "sn.histplot(acceptable_set, kde=True,bins = 50, color = 'darkblue',label = \"Acceptable\")\n",
    "plt.axvline(score_unacceptable_1.mean(),color='b', linestyle='dashed', linewidth=1,label =\"mean value : {:.2f}\".format((score_unacceptable_1.mean()).mean()))\n",
    "sn.histplot(unacceptable_set, kde=True,bins  =50, color = \"darkorange\",label = \"Unacceptable\")\n",
    "plt.axvline(score_unacceptable_0.mean(), color='orange', linestyle='dashed', linewidth=1,label =\"mean value : {:.2f}\".format((score_unacceptable_0.mean()).mean()))\n",
    "plt.legend(title = 'Quality')\n",
    "plt.title('Density Plot for each classes (Unacceptable dataset)')\n",
    "plt.xlabel('SQA scores')\n",
    "plt.ylabel('Density')"
   ]
  },
  {
   "cell_type": "code",
   "execution_count": null,
   "metadata": {},
   "outputs": [],
   "source": [
    "data_comparison = ds_data_2020.signal.transpose(\"id\",\"lead_name\",\"time\")\n",
    "data_comparison = np.array(data_comparison)\n",
    "score_trial = np.empty([data_comparison.shape[0]*data_comparison.shape[1],2])"
   ]
  },
  {
   "cell_type": "code",
   "execution_count": null,
   "metadata": {},
   "outputs": [],
   "source": [
    "score_trial_1 = np.array([])\n",
    "score_trial_0 = np.array([])\n",
    "for i in tqdm(range(data_comparison.shape[0]),desc =\"Calculating SQA score for each leads\",disable=not True):\n",
    "    signal_patient=np.array(data_comparison[i,:,:])\n",
    "    y_score = Our_SQA_method.SQA_method_lead_score(signal_patient,500)\n",
    "    score_trial_1 = np.concatenate((score_trial_1,y_score[:,1]),axis = None)\n",
    "    score_trial_0 = np.concatenate((score_trial_0,y_score[:,0]),axis = None)"
   ]
  },
  {
   "cell_type": "code",
   "execution_count": null,
   "metadata": {},
   "outputs": [],
   "source": [
    "signal_hist_1 = pd.DataFrame(score_trial_1,columns = [\"1\"])\n",
    "signal_hist_0 = pd.DataFrame(score_trial_0,columns = [\"0\"])\n",
    "acceptable_set = signal_hist_1[\"1\"]\n",
    "unacceptable_set = signal_hist_0[\"0\"]\n",
    "\n",
    "sn.histplot(acceptable_set, kde=True,bins = 125, color = 'darkblue',label = \"Acceptable\")\n",
    "plt.axvline(acceptable_set.mean(),color='b', linestyle='dashed', linewidth=1,label =\"mean value : {:.2f}\".format((acceptable_set.mean()).mean()))\n",
    "sn.histplot(unacceptable_set, kde=True,bins  =125, color = \"darkorange\",label = \"Unacceptable\")\n",
    "plt.axvline(unacceptable_set.mean(), color='orange', linestyle='dashed', linewidth=1,label =\"mean value : {:.2f}\".format((unacceptable_set.mean()).mean()))\n",
    "plt.legend(title = 'Quality')\n",
    "plt.title('Density Plot for each classes with 2020 dataset')\n",
    "plt.xlabel('SQA scores')\n",
    "plt.ylabel('Density')"
   ]
  }
 ],
 "metadata": {
  "kernelspec": {
   "display_name": ".venv",
   "language": "python",
   "name": "python3"
  },
  "language_info": {
   "codemirror_mode": {
    "name": "ipython",
    "version": 3
   },
   "file_extension": ".py",
   "mimetype": "text/x-python",
   "name": "python",
   "nbconvert_exporter": "python",
   "pygments_lexer": "ipython3",
   "version": "3.10.9"
  },
  "vscode": {
   "interpreter": {
    "hash": "1e9b5c13aa136530306b9d0fda952fcd75969540fafdedb30f13be0697230024"
   }
  }
 },
 "nbformat": 4,
 "nbformat_minor": 2
}
