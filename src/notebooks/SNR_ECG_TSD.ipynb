{
 "cells": [
  {
   "cell_type": "code",
   "execution_count": null,
   "metadata": {},
   "outputs": [],
   "source": [
    "from petastorm import make_reader\n",
    "import numpy as np\n",
    "import matplotlib.pyplot as plt\n",
    "import sys\n",
    "import neurokit2 as nk\n",
    "import pandas as pd\n",
    "import os\n",
    "from tqdm import tqdm\n",
    "import xarray as xr\n",
    "np.random.seed(1)\n",
    "sys.path.append(os.path.join(os.getcwd(), \"..\"))\n",
    "from shared_utils import utils_tsd_study as TSD\n",
    "path_formatted_glasgow = \"/workspaces/ecg_evaluation/data/20221006_physio_quality/set-a/dataParquet\"\n",
    "path_petastorm = f\"file://{path_formatted_glasgow}\"\n",
    "path_csv_ref_label = \"/workspaces/ecg_evaluation/data/20221006_physio_quality/set-a/REFERENCE.csv\"\n",
    "path_synthetic_dataset = \"\""
   ]
  },
  {
   "cell_type": "markdown",
   "metadata": {},
   "source": [
    "## Notebook goals : \n",
    "\n",
    "- ### Plot TSD evolution in function of the level of noise added to ECG recording for synthethic ones, acceptable labeled one and unacceptable labelled one\n",
    "\n",
    "- ### Check how TSD behave when encountering pathological ECG"
   ]
  },
  {
   "cell_type": "markdown",
   "metadata": {},
   "source": [
    "## Read signal and get lead name and quality label"
   ]
  },
  {
   "cell_type": "code",
   "execution_count": null,
   "metadata": {},
   "outputs": [],
   "source": [
    "with make_reader(path_petastorm) as reader:\n",
    "    for sample in reader:\n",
    "        data = sample\n",
    "        if data.signal_quality == \"acceptable\".encode():\n",
    "            break\n",
    "        else : \n",
    "            pass\n",
    "\n",
    "ECG_signal = data.signal\n",
    "ECG_lead = data.signal_names\n",
    "fs = data.sampling_frequency\n",
    "SNR_level = np.linspace(-10,100,50)"
   ]
  },
  {
   "cell_type": "markdown",
   "metadata": {},
   "source": [
    "## Collect 100 ECG recording of acceptable quality"
   ]
  },
  {
   "cell_type": "code",
   "execution_count": null,
   "metadata": {},
   "outputs": [],
   "source": [
    "###Get 100 acceptable ECG lead \n",
    "\n",
    "dataset = {}\n",
    "stop_cond  = 0\n",
    "with make_reader(path_petastorm) as reader:\n",
    "    for sample in reader:\n",
    "        data = sample\n",
    "        ECG_signal = data.signal\n",
    "        the_checker = np.array([])\n",
    "        for j in range(len(ECG_lead)):\n",
    "            the_checker = np.append(the_checker,np.mean(np.abs(ECG_signal[:,j])**2))\n",
    "        if data.signal_quality == \"acceptable\".encode() and stop_cond<100 and the_checker.all():\n",
    "            dico_ECG_pat = {}\n",
    "            for i,j in zip(ECG_lead,range(len(ECG_lead))):\n",
    "                dico_ECG_pat[i] = ECG_signal[:,j]\n",
    "            dataset[stop_cond] = dico_ECG_pat\n",
    "            stop_cond+=1\n",
    "            \n",
    "\n",
    "        elif stop_cond>=100:\n",
    "            break"
   ]
  },
  {
   "cell_type": "markdown",
   "metadata": {},
   "source": [
    "## Do the same for the unacceptable one"
   ]
  },
  {
   "cell_type": "code",
   "execution_count": null,
   "metadata": {},
   "outputs": [],
   "source": [
    "unac_dataset = {}\n",
    "stop_cond  = 0\n",
    "with make_reader(path_petastorm) as reader:\n",
    "    for sample in reader:\n",
    "        data = sample\n",
    "        ECG_signal = data.signal\n",
    "        the_checker = np.array([])\n",
    "        for j in range(len(ECG_lead)):\n",
    "            the_checker = np.append(the_checker,np.mean(np.abs(ECG_signal[:,j])**2))\n",
    "        if data.signal_quality == \"unacceptable\".encode() and stop_cond<100 and the_checker.all():\n",
    "            dico_ECG_pat = {}\n",
    "            for i,j in zip(ECG_lead,range(len(ECG_lead))):\n",
    "                dico_ECG_pat[i] = ECG_signal[:,j]\n",
    "            unac_dataset[stop_cond] = dico_ECG_pat\n",
    "            stop_cond+=1\n",
    "            \n",
    "\n",
    "        elif stop_cond>=100:\n",
    "            break\n",
    "        \n",
    "print(len(unac_dataset))"
   ]
  },
  {
   "cell_type": "markdown",
   "metadata": {},
   "source": [
    "## Create a synthethic ECG recording dataset "
   ]
  },
  {
   "cell_type": "code",
   "execution_count": null,
   "metadata": {},
   "outputs": [],
   "source": [
    "###Let's synthetise ECG and plot different for different heart rate\n",
    "HR_p = np.random.randint(60,180,100)\n",
    "synth_dataset = {}\n",
    "for i in tqdm(range(len(HR_p))):\n",
    "    ecg_synth = nk.ecg_simulate(10,5000,sampling_rate=500,noise = 0,heart_rate = HR_p[i],heart_rate_std = 1,method = \"multileads\")\n",
    "    dico_synth = {}\n",
    "    np_ecg_synth = ecg_synth.to_numpy()\n",
    "    for n,j in zip(ECG_lead,range(len(ECG_lead))):\n",
    "        dico_synth[n] = np_ecg_synth[:,j]\n",
    "    synth_dataset[i] = dico_synth"
   ]
  },
  {
   "cell_type": "markdown",
   "metadata": {},
   "source": [
    "## Get the mean and SD for all the datasets"
   ]
  },
  {
   "cell_type": "code",
   "execution_count": null,
   "metadata": {},
   "outputs": [],
   "source": [
    "ok_Dmean,ok_SDDmean = TSD.TSDvsNoiseLevel_100ECG(SNR_level,dataset,ECG_lead,fs)\n",
    "nok_Dmean,nokok_SDDmean = TSD.TSDvsNoiseLevel_100ECG(SNR_level,unac_dataset,ECG_lead,fs)\n",
    "synth_Dmean,synth_SDDmean = TSD.TSDvsNoiseLevel_100ECG(SNR_level,synth_dataset,ECG_lead,fs)"
   ]
  },
  {
   "cell_type": "markdown",
   "metadata": {},
   "source": [
    "## Compare the TSD evolution between sets "
   ]
  },
  {
   "cell_type": "code",
   "execution_count": null,
   "metadata": {},
   "outputs": [],
   "source": [
    "TSD.Comparative_lead_plot(synth_Dmean,ok_Dmean,nok_Dmean,synth_SDDmean,ok_SDDmean,nokok_SDDmean,SNR_level,ECG_lead)"
   ]
  },
  {
   "cell_type": "markdown",
   "metadata": {},
   "source": [
    "## Check the TSD behavior when encouting pathological ECG"
   ]
  },
  {
   "cell_type": "code",
   "execution_count": null,
   "metadata": {},
   "outputs": [],
   "source": [
    "###Comparison TSD from ECG with different pathologies:\n",
    "path_formatted_pathos = \"/workspaces/maitrise/data/20220902_data_physio_formatted_merged/merged/dataParquet\"\n",
    "path_petastorm_pathos = f\"file:///{path_formatted_pathos}\"\n",
    "path_csv_SNOMED_label = \"/workspaces/maitrise/data/Dx_map.csv\"\n",
    "\n",
    "###Read label : \n",
    "\n",
    "pd_pathos_label = pd.read_csv(path_csv_SNOMED_label)\n",
    "pathos_label = pd_pathos_label.to_numpy()\n",
    "\n",
    "pathology_name = pathos_label[:,0]\n",
    "\n",
    "pathology_code = pathos_label[:,1]\n",
    "\n",
    "#pathology_want = [426783006,164896001,426627000,164909002,164861001]\n",
    "pathology_want = [427084000]\n",
    "###Create a dico containing all the pathology and all the signals:\n",
    "dico_all = {}\n",
    "fs = 0\n",
    "with make_reader(path_petastorm_pathos) as reader:\n",
    "    for sample1 in reader:\n",
    "        data1 = sample1\n",
    "        score_class = data1.score_classes\n",
    "        if score_class.size>=2 or score_class.size == 0 or (score_class.size == 1 and score_class[0] == 0) :\n",
    "            continue\n",
    "        else : \n",
    "            fs = data1.sampling_frequency\n",
    "            dat = data1.signal\n",
    "            dico_ECG = {}\n",
    "            for i,j in zip(data1.signal_names,range(12)):\n",
    "                dico_ECG[i] = dat[:,j]\n",
    "            get_name_pathos = pathology_name[pathology_code == score_class[0]]\n",
    "            if not get_name_pathos[0] in list(dico_all.keys()) and score_class[0] in pathology_want:\n",
    "                dico_all[get_name_pathos[0]] = dico_ECG\n",
    "            else : \n",
    "                continue\n",
    "\n",
    "            if sorted(list(dico_all.keys())) == sorted(pathology_want):\n",
    "                break\n",
    "\n"
   ]
  },
  {
   "cell_type": "markdown",
   "metadata": {},
   "source": [
    "## Check How TSD behave when encounting patholgocial EG with increase level of noise"
   ]
  },
  {
   "cell_type": "code",
   "execution_count": null,
   "metadata": {},
   "outputs": [],
   "source": [
    "##Plot TSD difference between sample without disease and one with disease. Done for each disease selectionned before\n",
    "def add_observational_noise_segment(signal,SNR):\n",
    "    Power_sig = (1/len(signal))*np.sum(np.abs(signal)**2,dtype = np.float64)\n",
    "    P_db = 10*np.log10(Power_sig)\n",
    "    noisedb = P_db - SNR\n",
    "    sd_db_watts = 10**(noisedb/10)\n",
    "    noise = np.random.normal(0,np.sqrt(sd_db_watts),len(signal))\n",
    "    sig_noisy_segment = signal[1500:3000].copy()+noise[1500:3000]\n",
    "    sig_noisy = signal.copy()\n",
    "    sig_noisy[1500:3000] = sig_noisy_segment\n",
    "    return sig_noisy\n",
    "\n",
    "pathology_name = list(dico_all.keys())\n",
    "index_lead = 0\n",
    "for j in pathology_name:\n",
    "    i = 0\n",
    "    if i<1:\n",
    "        #sig = add_observational_noise_segment(dico_all[j][ECG_lead[index_lead]],10)\n",
    "        sig = dico_all[j][ECG_lead[index_lead]]\n",
    "        #segment_length = TSD.Interval_calculator_lead(sig,fs)\n",
    "        segment_length = 100\n",
    "        X = np.c_[[sig[int((w - 1)) : int((w) + segment_length)] for w in range(1, int(len(sig) - segment_length))]]\n",
    "        L1 = np.array([TSD.Lq_k(X[i, :], 1, fs) for i in range(X.shape[0])])\n",
    "        L2 = np.array([TSD.Lq_k(X[i, :], 2, fs) for i in range(X.shape[0])])\n",
    "        Ds = (np.log(L1) - np.log(L2)) / (np.log(2))\n",
    "        n = ECG_lead[0]\n",
    "        fig, ax = plt.subplots(nrows=2, ncols=1, figsize=(15, 15))\n",
    "        w_length =np.linspace(0,len(Ds),len(Ds))/fs\n",
    "        ax[0].plot(w_length, Ds)\n",
    "        ax[0].set_title(f\"TSD time Evolution of Lead {ECG_lead[index_lead].decode('utf8')} for {j} \")\n",
    "        ax[0].set_xlabel(\"lag\")\n",
    "        ax[0].set_ylabel(\"TSD value\")\n",
    "        ax[0].grid()\n",
    "        ax[0].set_xlim([0,1])\n",
    "        ax[1].plot(np.linspace(0, int(len(sig) / fs), len(sig)), sig, label=ECG_lead[index_lead])\n",
    "        ax[1].set_title(f\"Lead {ECG_lead[index_lead].decode('utf8')} for {j}\")\n",
    "        ax[1].set_xlabel(\"Time (sec)\")\n",
    "        ax[1].set_ylabel(\"Voltage Amplitude\")\n",
    "        ax[1].set_xlim([0,1])\n",
    "        ax[1].grid()\n",
    "        plt.show()\n",
    "        i+=1\n",
    "    else : \n",
    "        continue\n",
    "        "
   ]
  },
  {
   "cell_type": "code",
   "execution_count": null,
   "metadata": {},
   "outputs": [],
   "source": [
    "###Using a normal correct ECG signal : \n",
    "ecg_synth = nk.ecg_simulate(10,5000,sampling_rate=500,noise = 0,heart_rate = 60,heart_rate_std = 1,method = \"multileads\")\n",
    "dico_synth = {}\n",
    "np_ecg_synth = ecg_synth.to_numpy()\n",
    "for n,j in zip(ECG_lead,range(len(ECG_lead))):\n",
    "    dico_synth[n] = np_ecg_synth[:,j]\n",
    "\n",
    "\n",
    "sig_test = dico_synth[ECG_lead[0]]\n",
    "segment_length = 10\n",
    "Ds,_,_ = TSD.TSD_calculator(sig_test,segment_length,fs)\n",
    "fig, ax = plt.subplots(nrows=2, ncols=1, figsize=(15, 15))\n",
    "w_length =np.linspace(0,len(Ds),len(Ds))/fs\n",
    "ax[0].plot(w_length, Ds)\n",
    "ax[0].set_title(f\"TSD time Evolution of Lead {ECG_lead[index_lead].decode('utf8')} (synthetise) \")\n",
    "ax[0].set_xlabel(\"lag\")\n",
    "ax[0].set_ylabel(\"TSD value\")\n",
    "ax[0].grid()\n",
    "ax[0].set_xlim([0.6,1.50])\n",
    "ax[1].plot(np.linspace(0, int(len(sig) / fs), len(sig)), sig_test, label=ECG_lead[index_lead])\n",
    "ax[1].set_title(f\"Lead {ECG_lead[index_lead].decode('utf8')} (synthetise lead)\")\n",
    "ax[1].set_xlabel(\"Time (sec)\")\n",
    "ax[1].set_ylabel(\"Voltage Amplitude\")\n",
    "ax[1].set_xlim([0.6,1.50])\n",
    "ax[1].grid()\n",
    "plt.show()"
   ]
  }
 ],
 "metadata": {
  "kernelspec": {
   "display_name": "Python 3.10.6 64-bit",
   "language": "python",
   "name": "python3"
  },
  "language_info": {
   "codemirror_mode": {
    "name": "ipython",
    "version": 3
   },
   "file_extension": ".py",
   "mimetype": "text/x-python",
   "name": "python",
   "nbconvert_exporter": "python",
   "pygments_lexer": "ipython3",
   "version": "3.10.12"
  },
  "vscode": {
   "interpreter": {
    "hash": "949777d72b0d2535278d3dc13498b2535136f6dfe0678499012e853ee9abcab1"
   }
  }
 },
 "nbformat": 4,
 "nbformat_minor": 2
}
