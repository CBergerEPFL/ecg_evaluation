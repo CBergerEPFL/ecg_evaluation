{
 "cells": [
  {
   "cell_type": "markdown",
   "metadata": {},
   "source": [
    "# Using mit-bih-noise-stress-test-database, Test our models and index performances"
   ]
  },
  {
   "cell_type": "markdown",
   "metadata": {},
   "source": [
    "## Import"
   ]
  },
  {
   "cell_type": "code",
   "execution_count": null,
   "metadata": {},
   "outputs": [],
   "source": [
    "import numpy as np \n",
    "import matplotlib.pyplot as plt\n",
    "import pandas as pd\n",
    "import pickle as pkl\n",
    "import seaborn as sns\n",
    "import os\n",
    "import itertools\n",
    "import sys\n",
    "import xarray as xr\n",
    "sys.path.append(os.path.join(os.getcwd(), \"..\"))\n",
    "from operations.dataset_manager import get_path_petastorm_format"
   ]
  },
  {
   "cell_type": "markdown",
   "metadata": {},
   "source": [
    "## Paths"
   ]
  },
  {
   "cell_type": "code",
   "execution_count": null,
   "metadata": {},
   "outputs": [],
   "source": [
    "models_save_path = \"/workspaces/ecg_evaluation/results\"\n",
    "data_save_path = get_path_petastorm_format(\"mit-bih-noise-stress-test-database-1.0.0\",\"ParquetFile\")\n",
    "save_path  = \"/workspaces/ecg_evaluation/results\""
   ]
  },
  {
   "cell_type": "markdown",
   "metadata": {},
   "source": [
    "# Get the dataset"
   ]
  },
  {
   "cell_type": "code",
   "execution_count": null,
   "metadata": {},
   "outputs": [],
   "source": [
    "## get save files (where model is saved)\n",
    "\n",
    "model_name = [\n",
    "                f.split(\".\")[0]\n",
    "                for f in os.listdir(models_save_path)\n",
    "                if os.path.isfile(os.path.join(models_save_path,f )) and (f.endswith(\".sav\"))\n",
    "            ]"
   ]
  },
  {
   "cell_type": "code",
   "execution_count": null,
   "metadata": {},
   "outputs": [],
   "source": [
    "print(model_name)\n",
    "#model_name = ['backward_pval_selection', 'hjmi_selection','lgbm_prob', 'L2_reg_logistic']\n",
    "model_name = ['backward_pval_selection', 'hjmi_selection', 'L2_reg_logistic']"
   ]
  },
  {
   "cell_type": "code",
   "execution_count": null,
   "metadata": {},
   "outputs": [],
   "source": [
    "name_index = [\n",
    "        \"Corr_interlead\",\n",
    "        \"Corr_intralead\",\n",
    "        \"wPMF\",\n",
    "        \"SNRECG\",\n",
    "        \"HR\",\n",
    "        \"Flatline\",\n",
    "        \"TSD\",\n",
    "    ]"
   ]
  },
  {
   "cell_type": "markdown",
   "metadata": {},
   "source": [
    "# Test the model on new dataset"
   ]
  },
  {
   "cell_type": "markdown",
   "metadata": {},
   "source": [
    "### Please note that you will have to get your dataset ready and your metrics already calculated using the command describe on the git repo. "
   ]
  },
  {
   "cell_type": "code",
   "execution_count": null,
   "metadata": {},
   "outputs": [],
   "source": [
    "data_test_path = \"/workspaces/ecg_evaluation/results/mit_bih_noise_test_metrics.nc\"\n",
    "metrics = xr.load_dataset(data_test_path)"
   ]
  },
  {
   "cell_type": "code",
   "execution_count": null,
   "metadata": {},
   "outputs": [],
   "source": [
    "## check data metrics \n",
    "id_signals = metrics.id.values\n",
    "metrics_name = metrics.metric_name.values.tolist()\n",
    "values_metrics = metrics.quality_metrics.values\n",
    "signal = metrics.signal.values\n",
    "nb_segment = metrics.number_signal.values[0]"
   ]
  },
  {
   "cell_type": "markdown",
   "metadata": {},
   "source": [
    "## Test each model performance for each noise"
   ]
  },
  {
   "cell_type": "markdown",
   "metadata": {},
   "source": [
    "### We will specifically focus on the noises signal. So, let's isolate them :"
   ]
  },
  {
   "cell_type": "code",
   "execution_count": null,
   "metadata": {},
   "outputs": [],
   "source": [
    "list_noise_new = [\"em\",\"ma\",\"bw\"]\n",
    "list_noise_old = [\"oldem\",\"oldma\",\"oldbw\"]\n",
    "index_noise_new = [np.where(id_signals==n)[0][0] for n in list_noise_new]\n",
    "index_noise_old = [np.where(id_signals==n)[0][0] for n in list_noise_old]"
   ]
  },
  {
   "cell_type": "code",
   "execution_count": null,
   "metadata": {},
   "outputs": [],
   "source": [
    "## 3 type of noise. We will reunite the old and new version\n",
    "noise_data = np.zeros([len(list_noise_new),nb_segment*2,values_metrics.shape[-1]])\n",
    "\n",
    "for j in range(noise_data.shape[0]):\n",
    "    noise_data[j,:,:] = np.concatenate((values_metrics[index_noise_new[j],:,:],values_metrics[index_noise_old[j],:,:]),axis = 0)\n"
   ]
  },
  {
   "cell_type": "code",
   "execution_count": null,
   "metadata": {},
   "outputs": [],
   "source": [
    "## Small check concerning the values performance for each noise.\n",
    "plt.rcParams.update({\"font.size\": 20})\n",
    "plt.rcParams[\"legend.fontsize\"] = 20\n",
    "for n in range(len(list_noise_new)):\n",
    "    fig,axes = plt.subplots(2, 4, figsize=(20, 15),constrained_layout = True)\n",
    "    fig.tight_layout(pad=5)\n",
    "    fig.suptitle(f\"Histogram value for noise type {list_noise_new[n]}\")\n",
    "    fig.subplots_adjust(top=0.88)\n",
    "    palette = itertools.cycle(sns.color_palette())\n",
    "## take the average result obtained over all the segment of all datasets.\n",
    "\n",
    "    for i in range(2):\n",
    "        for j in range(int(len(metrics_name)/2)):\n",
    "            trial_rinter = noise_data[n,:,i*(int(len(metrics_name)/2))+j]\n",
    "            axes[i,j].set_title(f\"{metrics_name[i*int(len(metrics_name)/2)+j]}\")\n",
    "            axes[i,j].grid()\n",
    "            axes[i,j].axvline(trial_rinter.mean(),color='k', linestyle='dashed', linewidth=2,label =\"mean value\")\n",
    "            axes[i,j].axvline(np.quantile(trial_rinter,0.10),color='red', linestyle='dashed', linewidth=2,label =\"q10 acceptable\")\n",
    "            axes[i,j].axvline(np.quantile(trial_rinter,0.90),color='blue', linestyle='dashed', linewidth=2,label =\"q90 acceptable\")\n",
    "            #axes[i,j].legend(title = 'Quality')\n",
    "            sns.histplot(trial_rinter,ax=axes[i,j],color=next(palette))\n",
    "            plt.setp(axes[i,j].get_xticklabels(), rotation=30, horizontalalignment='right')\n",
    "\n",
    "    handles, labels = axes[0,0].get_legend_handles_labels()\n",
    "    fig.legend(handles, labels, loc='upper left',bbox_to_anchor=(-0.01, 1.01))\n",
    "            # if np.max(trial_rinter)<1 and np.min(trial_rinter)>0:\n",
    "            #     axes[i,j].set_xlim([0,1])"
   ]
  },
  {
   "cell_type": "markdown",
   "metadata": {},
   "source": [
    "### Load model "
   ]
  },
  {
   "cell_type": "code",
   "execution_count": null,
   "metadata": {},
   "outputs": [],
   "source": [
    "def extract_index_label_mit_noise(ds_data,name_metrics,required_index):\n",
    "    np_metrics = ds_data\n",
    "    metrics_names = name_metrics\n",
    "    np_label = np.ones(np_metrics.shape[0]).astype(int)\n",
    "\n",
    "    df_X = pd.DataFrame(np_metrics, columns=metrics_names)\n",
    "    df_y = pd.DataFrame(np_label, columns=[\"y\"])\n",
    "\n",
    "    if required_index is not None:\n",
    "        df_X = df_X.loc[:, required_index]\n",
    "    else:\n",
    "        required_index = df_X.columns.tolist()\n",
    "\n",
    "    return df_X, df_y"
   ]
  },
  {
   "cell_type": "code",
   "execution_count": null,
   "metadata": {},
   "outputs": [],
   "source": [
    "def SQA_method(data,name_metrics,feature_ex,model_path):\n",
    "\n",
    "    ##give the dataset with noise\n",
    "    X,_ = extract_index_label_mit_noise(data,name_metrics,feature_ex)\n",
    "    model = pkl.load(open(model_path,\"rb\"))\n",
    "    X = X.values\n",
    "    y_proba = model.predict_proba(X)\n",
    "    return y_proba"
   ]
  },
  {
   "cell_type": "code",
   "execution_count": null,
   "metadata": {},
   "outputs": [],
   "source": [
    "list_selection_features = [[\"Corr_interlead\", \"HR\", \"wPMF\", \"TSD\"],\n",
    "                           ['Corr_interlead', 'SNRECG', 'TSD', 'Corr_intralead'],\n",
    "                           #[\"Corr_interlead\",\"Corr_intralead\",\"wPMF\",\"SNRECG\",\"HR\",\"Flatline\",\"TSD\"],\n",
    "                           [\"Corr_interlead\", \"SNRECG\", \"HR\", \"Corr_intralead\", \"wPMF\"]]\n",
    "\n",
    "for n in range(len(list_noise_new)):\n",
    "    fig,axes = plt.subplots(1, 3, figsize=(20, 15),constrained_layout = True)\n",
    "    fig.tight_layout(pad=5)\n",
    "    fig.suptitle(f\"Histogram value for noise type {list_noise_new[n]} (Unacceptable probability)\")\n",
    "    fig.subplots_adjust(top=0.88)\n",
    "    palette = itertools.cycle(sns.color_palette())\n",
    "    ##We will do it for one model (the first one in the list)\n",
    "    data = noise_data[n,:,:]\n",
    "    for j in range(len(model_name)):\n",
    "        y_p = SQA_method(data,metrics_name,list_selection_features[j],os.path.join(models_save_path,model_name[j]+ \".sav\"))\n",
    "\n",
    "        axes[j].axvline(y_p[:,1].mean(),color='k', linestyle='dashed', linewidth=2,label =\"mean value\")\n",
    "        axes[j].axvline(np.quantile(y_p[:,1],0.10),color='red', linestyle='dashed', linewidth=2,label =\"q10 acceptable\")\n",
    "        axes[j].axvline(np.quantile(y_p[:,1],0.90),color='blue', linestyle='dashed', linewidth=2,label =\"q90 acceptable\")\n",
    "        axes[j].set_title(f\"{model_name[j]}\")\n",
    "            #axes[i,j].legend(title = 'Quality')\n",
    "        sns.histplot(y_p[:,1],ax=axes[j],color=next(palette))\n",
    "        plt.setp(axes[j].get_xticklabels(), rotation=30, horizontalalignment='right')\n",
    "    handles, labels = axes[0].get_legend_handles_labels()\n",
    "    fig.legend(handles, labels, loc='upper left',bbox_to_anchor=(-0.01, 1.01))\n",
    "    \n"
   ]
  }
 ],
 "metadata": {
  "kernelspec": {
   "display_name": ".venv",
   "language": "python",
   "name": "python3"
  },
  "language_info": {
   "codemirror_mode": {
    "name": "ipython",
    "version": 3
   },
   "file_extension": ".py",
   "mimetype": "text/x-python",
   "name": "python",
   "nbconvert_exporter": "python",
   "pygments_lexer": "ipython3",
   "version": "3.10.12"
  }
 },
 "nbformat": 4,
 "nbformat_minor": 2
}
