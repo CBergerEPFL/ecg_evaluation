{
 "cells": [
  {
   "cell_type": "markdown",
   "metadata": {},
   "source": [
    "# Using mit-bih-noise-stress-test-database, Test our models and index performances"
   ]
  },
  {
   "cell_type": "markdown",
   "metadata": {},
   "source": [
    "## Import"
   ]
  },
  {
   "cell_type": "code",
   "execution_count": null,
   "metadata": {},
   "outputs": [],
   "source": [
    "import numpy as np \n",
    "import matplotlib.pyplot as plt\n",
    "import pandas as pd\n",
    "import pickle as pkl\n",
    "import seaborn as sns\n",
    "import os\n",
    "import itertools\n",
    "import sys\n",
    "import xarray as xr\n",
    "sys.path.append(os.path.join(os.getcwd(), \"..\"))\n",
    "from operations.dataset_manager import get_path_petastorm_format"
   ]
  },
  {
   "cell_type": "code",
   "execution_count": null,
   "metadata": {},
   "outputs": [],
   "source": [
    "plt.rcParams.update({\"font.size\": 15})\n",
    "plt.rcParams[\"legend.fontsize\"] = 15"
   ]
  },
  {
   "cell_type": "code",
   "execution_count": null,
   "metadata": {},
   "outputs": [],
   "source": [
    "d = xr.load_dataset(\"/workspaces/ecg_evaluation/results/quality_metrics.nc\")\n",
    "print(d)"
   ]
  },
  {
   "cell_type": "markdown",
   "metadata": {},
   "source": [
    "## Paths"
   ]
  },
  {
   "cell_type": "code",
   "execution_count": null,
   "metadata": {},
   "outputs": [],
   "source": [
    "models_save_path = \"/workspaces/ecg_evaluation/results\"\n",
    "data_save_path = get_path_petastorm_format(\"mit-bih-noise-stress-test-database-1.0.0\",\"ParquetFile\")\n",
    "save_path  = \"/workspaces/ecg_evaluation/results\""
   ]
  },
  {
   "cell_type": "markdown",
   "metadata": {},
   "source": [
    "# Get the dataset"
   ]
  },
  {
   "cell_type": "code",
   "execution_count": null,
   "metadata": {},
   "outputs": [],
   "source": [
    "## get save files (where model is saved)\n",
    "\n",
    "model_name = [\n",
    "                f.split(\".\")[0]\n",
    "                for f in os.listdir(models_save_path)\n",
    "                if os.path.isfile(os.path.join(models_save_path,f )) and (f.endswith(\".sav\"))\n",
    "            ]"
   ]
  },
  {
   "cell_type": "code",
   "execution_count": null,
   "metadata": {},
   "outputs": [],
   "source": [
    "name_index = [\n",
    "        \"Corr_interlead\",\n",
    "        \"Corr_intralead\",\n",
    "        \"wPMF\",\n",
    "        \"SNRECG\",\n",
    "        \"HR\",\n",
    "        \"Flatline\",\n",
    "        \"TSD\",\n",
    "    ]"
   ]
  },
  {
   "cell_type": "markdown",
   "metadata": {},
   "source": [
    "# Test the model on new dataset"
   ]
  },
  {
   "cell_type": "markdown",
   "metadata": {},
   "source": [
    "### Please note that you will have to get your dataset ready and your metrics already calculated using the command describe on the git repo. "
   ]
  },
  {
   "cell_type": "code",
   "execution_count": null,
   "metadata": {},
   "outputs": [],
   "source": [
    "data_test_path = \"/workspaces/ecg_evaluation/results/mit_bih_noise_test_metrics.nc\"\n",
    "metrics = xr.load_dataset(data_test_path)"
   ]
  },
  {
   "cell_type": "code",
   "execution_count": null,
   "metadata": {},
   "outputs": [],
   "source": [
    "## check data metrics \n",
    "id_signals = metrics.id.values\n",
    "values_metrics = metrics.quality_metrics.values\n",
    "metrics_name = metrics.metric_name.values\n",
    "signal = metrics.signal.values\n",
    "nb_segment = metrics.number_signal.values[0]"
   ]
  },
  {
   "cell_type": "markdown",
   "metadata": {},
   "source": [
    "## Test each model performance for each noise"
   ]
  },
  {
   "cell_type": "markdown",
   "metadata": {},
   "source": [
    "### We will specifically focus on the noises signal. So, let's isolate them :"
   ]
  },
  {
   "cell_type": "code",
   "execution_count": null,
   "metadata": {},
   "outputs": [],
   "source": [
    "list_noise_new = [\"em\",\"ma\",\"bw\"]\n",
    "list_noise_old = [\"oldem\",\"oldma\",\"oldbw\"]\n",
    "index_noise_new = [np.where(id_signals==n)[0][0] for n in list_noise_new]\n",
    "index_noise_old = [np.where(id_signals==n)[0][0] for n in list_noise_old]"
   ]
  },
  {
   "cell_type": "code",
   "execution_count": null,
   "metadata": {},
   "outputs": [],
   "source": [
    "## 3 type of noise. We will reunite the old and new version\n",
    "noise_data = np.zeros([len(list_noise_new),nb_segment*2,values_metrics.shape[-1]])\n",
    "\n",
    "for j in range(noise_data.shape[0]):\n",
    "    noise_data[j,:,:] = np.concatenate((values_metrics[index_noise_new[j],:,:],values_metrics[index_noise_old[j],:,:]),axis = 0)\n"
   ]
  },
  {
   "cell_type": "code",
   "execution_count": null,
   "metadata": {},
   "outputs": [],
   "source": [
    "## Small check concerning the values performance for each noise.\n",
    "plt.rcParams.update({\"font.size\": 20})\n",
    "plt.rcParams[\"legend.fontsize\"] = 20\n",
    "for n in range(len(list_noise_new)):\n",
    "    fig,axes = plt.subplots(2, 4, figsize=(20, 15),constrained_layout = True)\n",
    "    fig.tight_layout(pad=5)\n",
    "    fig.suptitle(f\"Histogram value for noise type {list_noise_new[n]}\")\n",
    "    fig.subplots_adjust(top=0.88)\n",
    "    fig.text(-0.0005, 0.5, 'Frequency', rotation='vertical')\n",
    "    palette = itertools.cycle(sns.color_palette())\n",
    "## take the average result obtained over all the segment of all datasets.\n",
    "\n",
    "    for i in range(2):\n",
    "        for j in range(int(len(metrics_name)/2)):\n",
    "            trial_rinter = noise_data[n,:,i*(int(len(metrics_name)/2))+j]\n",
    "\n",
    "            axes[i,j].hist(trial_rinter,color=next(palette))\n",
    "            axes[i,j].set_title(f\"{metrics_name[i*int(len(metrics_name)/2)+j]}\")\n",
    "            axes[i,j].grid()\n",
    "            plt.setp(axes[i,j].get_xticklabels(), rotation=30, horizontalalignment='right')\n",
    "            \n",
    "            # if np.max(trial_rinter)<1 and np.min(trial_rinter)>0:\n",
    "            #     axes[i,j].set_xlim([0,1])"
   ]
  },
  {
   "cell_type": "markdown",
   "metadata": {},
   "source": [
    "### Load model "
   ]
  },
  {
   "cell_type": "code",
   "execution_count": null,
   "metadata": {},
   "outputs": [],
   "source": [
    "model_name = model_name[1:]\n",
    "print(model_name)\n"
   ]
  },
  {
   "cell_type": "code",
   "execution_count": null,
   "metadata": {},
   "outputs": [],
   "source": [
    "for n in range(len(list_noise_new)):\n",
    "    fig,axes = plt.subplots(1, 5, figsize=(20, 15),constrained_layout = True)\n",
    "    fig.tight_layout(pad=5)\n",
    "    fig.suptitle(f\"Histogram value for noise type {list_noise_new[n]}\")\n",
    "    fig.subplots_adjust(top=0.88)\n",
    "    fig.text(-0.0005, 0.5, 'Frequency', rotation='vertical')\n",
    "    palette = itertools.cycle(sns.color_palette())\n",
    "    for model in model_name:\n",
    "        m = pkl.load(open(models_save_path,model))\n",
    "        \n",
    "    "
   ]
  }
 ],
 "metadata": {
  "kernelspec": {
   "display_name": ".venv",
   "language": "python",
   "name": "python3"
  },
  "language_info": {
   "codemirror_mode": {
    "name": "ipython",
    "version": 3
   },
   "file_extension": ".py",
   "mimetype": "text/x-python",
   "name": "python",
   "nbconvert_exporter": "python",
   "pygments_lexer": "ipython3",
   "version": "3.10.12"
  }
 },
 "nbformat": 4,
 "nbformat_minor": 2
}
