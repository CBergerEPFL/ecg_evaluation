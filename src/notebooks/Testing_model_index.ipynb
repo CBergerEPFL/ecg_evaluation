{
 "cells": [
  {
   "cell_type": "markdown",
   "metadata": {},
   "source": [
    "# Using mit-bih-noise-stress-test-database, Test our models and index performances"
   ]
  },
  {
   "cell_type": "markdown",
   "metadata": {},
   "source": [
    "## Import"
   ]
  },
  {
   "cell_type": "code",
   "execution_count": null,
   "metadata": {},
   "outputs": [],
   "source": [
    "from petastorm import make_reader\n",
    "import numpy as np \n",
    "import matplotlib.pyplot as plt\n",
    "import pandas as pd\n",
    "import pickle as pkl\n",
    "import os\n",
    "import sys\n",
    "sys.path.append(os.path.join(os.getcwd(), \"..\"))\n",
    "from operations.dataset_manager import get_path_petastorm_format"
   ]
  },
  {
   "cell_type": "markdown",
   "metadata": {},
   "source": [
    "## Set matplotlib window size and parameter"
   ]
  },
  {
   "cell_type": "code",
   "execution_count": null,
   "metadata": {},
   "outputs": [],
   "source": [
    "plt.rcParams.update({\"font.size\": 32})\n",
    "plt.rcParams[\"legend.fontsize\"] = 32"
   ]
  },
  {
   "cell_type": "markdown",
   "metadata": {},
   "source": [
    "## Paths"
   ]
  },
  {
   "cell_type": "code",
   "execution_count": null,
   "metadata": {},
   "outputs": [],
   "source": [
    "models_save_path = \"/workspaces/ecg_evaluation/results\"\n",
    "data_save_path = get_path_petastorm_format(\"mit-bih-noise-stress-test-database-1.0.0\",\"ParquetFile\")"
   ]
  },
  {
   "cell_type": "markdown",
   "metadata": {},
   "source": [
    "# Get the dataset"
   ]
  },
  {
   "cell_type": "code",
   "execution_count": null,
   "metadata": {},
   "outputs": [],
   "source": [
    "data = []\n",
    "with make_reader(data_save_path) as reader:\n",
    "    for row in reader:\n",
    "        data.append(row)"
   ]
  },
  {
   "cell_type": "code",
   "execution_count": null,
   "metadata": {},
   "outputs": [],
   "source": [
    "## get save files (where model is saved)\n",
    "\n",
    "model_name = [\n",
    "                f.split(\".\")[0]\n",
    "                for f in os.listdir(models_save_path)\n",
    "                if os.path.isfile(os.path.join(models_save_path,f )) and (f.endswith(\".sav\"))\n",
    "            ]"
   ]
  },
  {
   "cell_type": "code",
   "execution_count": null,
   "metadata": {},
   "outputs": [],
   "source": [
    "name_index = [\n",
    "        \"Corr_interlead\",\n",
    "        \"Corr_intralead\",\n",
    "        \"wPMF\",\n",
    "        \"SNRECG\",\n",
    "        \"HR\",\n",
    "        \"Flatline\",\n",
    "        \"TSD\",\n",
    "    ]"
   ]
  },
  {
   "cell_type": "markdown",
   "metadata": {},
   "source": [
    "# Test the model on new dataset"
   ]
  },
  {
   "cell_type": "markdown",
   "metadata": {},
   "source": [
    "## Divide into the 3 noises present in the dataset (em,ma,bw)"
   ]
  },
  {
   "cell_type": "code",
   "execution_count": null,
   "metadata": {},
   "outputs": [],
   "source": [
    "em_data = []\n",
    "ma_data = []\n",
    "bw_data = []\n",
    "\n",
    "for d in data:\n",
    "    if d.noun_id.decode(\"utf-8\") == \"ma\" or d.noun_id.decode(\"utf-8\") == \"oldma\":\n",
    "        ma_data.append(d)\n",
    "    elif d.noun_id.decode(\"utf-8\")== \"em\" or d.noun_id.decode(\"utf-8\") == \"oldem\":\n",
    "        em_data.append(d)\n",
    "    elif d.noun_id.decode(\"utf-8\") == \"bw\" or d.noun_id.decode(\"utf-8\") == \"oldbw\":\n",
    "        bw_data.append(d)\n",
    "\n",
    "print(len(em_data))\n",
    "print(len(ma_data))\n",
    "print(len(bw_data))"
   ]
  },
  {
   "cell_type": "markdown",
   "metadata": {},
   "source": [
    "## Test each model performance for each noise"
   ]
  },
  {
   "cell_type": "code",
   "execution_count": null,
   "metadata": {},
   "outputs": [],
   "source": []
  }
 ],
 "metadata": {
  "kernelspec": {
   "display_name": ".venv",
   "language": "python",
   "name": "python3"
  },
  "language_info": {
   "codemirror_mode": {
    "name": "ipython",
    "version": 3
   },
   "file_extension": ".py",
   "mimetype": "text/x-python",
   "name": "python",
   "nbconvert_exporter": "python",
   "pygments_lexer": "ipython3",
   "version": "3.10.12"
  }
 },
 "nbformat": 4,
 "nbformat_minor": 2
}
