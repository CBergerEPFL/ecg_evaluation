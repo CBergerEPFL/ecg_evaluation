{
 "cells": [
  {
   "cell_type": "code",
   "execution_count": null,
   "metadata": {},
   "outputs": [],
   "source": [
    "import os\n",
    "import sys\n",
    "import pandas as pd\n",
    "import xarray as xr\n",
    "import numpy as np\n",
    "sys.path.append(os.path.join(os.getcwd(), \"..\"))\n",
    "from models.components.features_selection import jmi,discretize_data,backward_model_selection_MI_JMI,model_selection_L2reg\n",
    "from shared_utils.utils_data import extract_index_label, feature_checker"
   ]
  },
  {
   "cell_type": "code",
   "execution_count": null,
   "metadata": {},
   "outputs": [],
   "source": [
    "metrics = \"/workspaces/ecg_evaluation/results/quality_metrics.nc\"\n",
    "d = xr.load_dataset(metrics)\n",
    "list_features = [\n",
    "        \"Corr_interlead\",\n",
    "        \"Corr_intralead\",\n",
    "        \"wPMF\",\n",
    "        \"SNRECG\",\n",
    "        \"HR\",\n",
    "        \"Flatline\",\n",
    "        \"TSD\",\n",
    "    ]\n",
    "df_X_mean, df_y = extract_index_label(\n",
    "        d, list_features, aggregation_method=\"mean\"\n",
    "    )\n",
    "print(df_X_mean)"
   ]
  },
  {
   "cell_type": "code",
   "execution_count": null,
   "metadata": {},
   "outputs": [],
   "source": [
    "test = \"/workspaces/ecg_evaluation/results\"\n",
    "rep = backward_model_selection_MI_JMI(df_X_mean,df_y,test)\n",
    "print(rep)"
   ]
  },
  {
   "cell_type": "code",
   "execution_count": null,
   "metadata": {},
   "outputs": [],
   "source": [
    "rep = model_selection_L2reg(df_X_mean,df_y)\n",
    "print(rep)"
   ]
  }
 ],
 "metadata": {
  "kernelspec": {
   "display_name": ".venv",
   "language": "python",
   "name": "python3"
  },
  "language_info": {
   "codemirror_mode": {
    "name": "ipython",
    "version": 3
   },
   "file_extension": ".py",
   "mimetype": "text/x-python",
   "name": "python",
   "nbconvert_exporter": "python",
   "pygments_lexer": "ipython3",
   "version": "3.10.9"
  },
  "vscode": {
   "interpreter": {
    "hash": "1e9b5c13aa136530306b9d0fda952fcd75969540fafdedb30f13be0697230024"
   }
  }
 },
 "nbformat": 4,
 "nbformat_minor": 2
}
