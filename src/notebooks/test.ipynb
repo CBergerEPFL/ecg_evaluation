{
 "cells": [
  {
   "cell_type": "code",
   "execution_count": null,
   "metadata": {},
   "outputs": [],
   "source": [
    "import os\n",
    "import sys\n",
    "import pandas as pd\n",
    "import xarray as xr\n",
    "import numpy as np\n",
    "import seaborn as sns\n",
    "import matplotlib.pyplot as plt\n",
    "sys.path.append(os.path.join(os.getcwd(), \"..\"))\n",
    "from models.components.features_selection import lcsi,discretize_data,JMI_score,model_selection_L2reg,hjmi_selection,backward_model_selection,elbow_plot\n",
    "from shared_utils.utils_data import extract_index_label, feature_checker\n",
    "from sklearn.feature_selection import mutual_info_regression\n",
    "import infoselect as inf"
   ]
  },
  {
   "cell_type": "code",
   "execution_count": null,
   "metadata": {},
   "outputs": [],
   "source": [
    "metrics = \"/workspaces/ecg_evaluation/results/quality_metrics.nc\"\n",
    "d = xr.load_dataset(metrics)\n",
    "list_features = [\n",
    "        \"Corr_interlead\",\n",
    "        \"Corr_intralead\",\n",
    "        \"wPMF\",\n",
    "        \"SNRECG\",\n",
    "        \"HR\",\n",
    "        \"Flatline\",\n",
    "        \"TSD\",\n",
    "    ]\n",
    "df_X_mean, df_y = extract_index_label(\n",
    "        d, list_features, aggregation_method=\"mean\"\n",
    "    )\n",
    "initial_feature_set = list(df_X_mean.columns.values)\n",
    "print(df_X_mean.columns.values)"
   ]
  },
  {
   "cell_type": "code",
   "execution_count": null,
   "metadata": {},
   "outputs": [],
   "source": [
    "corr = df_X_mean.corr()\n",
    "sns.heatmap(corr,xticklabels=corr.columns.values,\n",
    "            yticklabels=corr.columns.values,annot=True)"
   ]
  },
  {
   "cell_type": "code",
   "execution_count": null,
   "metadata": {},
   "outputs": [],
   "source": [
    "df_X_mean[\"der_label\"] = df_y.values"
   ]
  },
  {
   "cell_type": "code",
   "execution_count": null,
   "metadata": {},
   "outputs": [],
   "source": [
    "initial_feature_set = list(df_X_mean.columns.values)\n",
    "x_dis = discretize_data(df_X_mean)\n",
    "plt.figure()\n",
    "fig1,ax = plt.subplots(nrows = 2,ncols = 4,figsize=(15,15))\n",
    "coordinates = [(x,y) for y in range(4) for x in range(2)]\n",
    "color = iter(plt.cm.rainbow(np.linspace(0, 1, 7)))\n",
    "for j in range(x_dis.shape[1]):\n",
    "    ax[coordinates[j]].hist(x_dis.iloc[:,j])\n",
    "    ax[coordinates[j]].set_title(initial_feature_set[j])\n",
    "\n",
    "plt.show()"
   ]
  },
  {
   "cell_type": "code",
   "execution_count": null,
   "metadata": {},
   "outputs": [],
   "source": [
    "initial_feature_set = list(df_X_mean.columns.values)\n",
    "print(df_X_mean)\n",
    "x_dis = discretize_data(df_X_mean)\n",
    "F, JMI, MI = lcsi(x_dis.values, df_y.values.ravel(),function_name =  'JMI')\n",
    "print(np.array(initial_feature_set)[F])\n",
    "print(JMI)\n",
    "print(MI)"
   ]
  },
  {
   "cell_type": "code",
   "execution_count": null,
   "metadata": {},
   "outputs": [],
   "source": [
    "rep = backward_model_selection(df_X_mean,df_y)\n",
    "print(rep)"
   ]
  },
  {
   "cell_type": "code",
   "execution_count": null,
   "metadata": {},
   "outputs": [],
   "source": [
    "test = \"/workspaces/ecg_evaluation/results/evaluation_metrics\"\n",
    "rep = JMI_score(df_X_mean,df_y)\n",
    "print(rep)"
   ]
  },
  {
   "cell_type": "code",
   "execution_count": null,
   "metadata": {},
   "outputs": [],
   "source": [
    "test = \"/workspaces/ecg_evaluation/results/evaluation_metrics\"\n",
    "rep = hjmi_selection(df_X_mean,df_y)\n",
    "print ([initial_feature_set[i] for i in rep[0]])\n",
    "elbow_plot(rep[2])"
   ]
  },
  {
   "cell_type": "code",
   "execution_count": null,
   "metadata": {},
   "outputs": [],
   "source": []
  },
  {
   "cell_type": "code",
   "execution_count": null,
   "metadata": {},
   "outputs": [],
   "source": [
    "rep = model_selection_L2reg(df_X_mean,df_y)\n",
    "print(rep)"
   ]
  }
 ],
 "metadata": {
  "kernelspec": {
   "display_name": ".venv",
   "language": "python",
   "name": "python3"
  },
  "language_info": {
   "codemirror_mode": {
    "name": "ipython",
    "version": 3
   },
   "file_extension": ".py",
   "mimetype": "text/x-python",
   "name": "python",
   "nbconvert_exporter": "python",
   "pygments_lexer": "ipython3",
   "version": "3.10.12"
  },
  "vscode": {
   "interpreter": {
    "hash": "1e9b5c13aa136530306b9d0fda952fcd75969540fafdedb30f13be0697230024"
   }
  }
 },
 "nbformat": 4,
 "nbformat_minor": 2
}
