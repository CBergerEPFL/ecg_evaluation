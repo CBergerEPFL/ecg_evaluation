{
 "cells": [
  {
   "cell_type": "code",
   "execution_count": null,
   "metadata": {},
   "outputs": [],
   "source": [
    "import os \n",
    "import pandas as pd\n"
   ]
  },
  {
   "cell_type": "code",
   "execution_count": null,
   "metadata": {},
   "outputs": [],
   "source": [
    "results_path = \"/workspaces/ecg_evaluation/results/evaluation_metrics_retain\"\n",
    "df_results = pd.DataFrame()\n",
    "for file in os.listdir(results_path):\n",
    "    name_method = file.split(\".csv\")[0]\n",
    "    df_tmp = pd.read_csv(os.path.join(results_path, file), index_col=0)\n",
    "    if df_tmp.iloc[:,1].max() > 0:\n",
    "        df_tmp = df_tmp.iloc[:,0].astype(str) + \" , \"+ df_tmp.iloc[:,1].astype(str)\n",
    "    else:\n",
    "        df_tmp = df_tmp.iloc[:,0].astype(str)\n",
    "    df_results.loc[:, name_method] = df_tmp.iloc[:]"
   ]
  },
  {
   "cell_type": "code",
   "execution_count": null,
   "metadata": {},
   "outputs": [],
   "source": [
    "df_results"
   ]
  }
 ],
 "metadata": {
  "kernelspec": {
   "display_name": ".venv",
   "language": "python",
   "name": "python3"
  },
  "language_info": {
   "codemirror_mode": {
    "name": "ipython",
    "version": 3
   },
   "file_extension": ".py",
   "mimetype": "text/x-python",
   "name": "python",
   "nbconvert_exporter": "python",
   "pygments_lexer": "ipython3",
   "version": "3.10.8"
  },
  "vscode": {
   "interpreter": {
    "hash": "1e9b5c13aa136530306b9d0fda952fcd75969540fafdedb30f13be0697230024"
   }
  }
 },
 "nbformat": 4,
 "nbformat_minor": 2
}
