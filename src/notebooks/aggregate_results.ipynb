{
 "cells": [
  {
   "cell_type": "code",
   "execution_count": null,
   "metadata": {},
   "outputs": [],
   "source": [
    "import os \n",
    "import pandas as pd\n",
    "import sys\n",
    "sys.path.append(os.path.join(os.getcwd(), \"..\"))\n",
    "from  shared_utils.utils_visualisation import comparison_roc_pr_mean_curve\n",
    "from shared_utils.utils_path import results_path\n"
   ]
  },
  {
   "cell_type": "code",
   "execution_count": null,
   "metadata": {},
   "outputs": [],
   "source": [
    "path_to_result = os.path.join(results_path,\"evaluation_metrics\")\n",
    "list_aggregation_method = os.listdir(path_to_result)\n",
    "get_dataframe = []\n",
    "\n",
    "for agg in list_aggregation_method:\n",
    "\n",
    "    path = os.path.join(path_to_result,agg)\n",
    "    df_results = pd.DataFrame()\n",
    "    for file in os.listdir(path):\n",
    "        name_method = file.split(\".csv\")[0]\n",
    "        df_tmp = pd.read_csv(os.path.join(path,file),index_col = 0)\n",
    "        if df_tmp.iloc[:,1].max() > 0:\n",
    "            df_tmp = df_tmp.iloc[:,0].astype(str) + \" , \"+ df_tmp.iloc[:,1].astype(str)\n",
    "        else:\n",
    "            df_tmp = df_tmp.iloc[:,0].astype(str)\n",
    "        df_results.loc[:, name_method] = df_tmp.iloc[:]\n",
    "    \n",
    "    get_dataframe.append(df_results)\n",
    "        "
   ]
  },
  {
   "cell_type": "code",
   "execution_count": null,
   "metadata": {},
   "outputs": [],
   "source": [
    "for p in range(len(get_dataframe)):\n",
    "    print(f\"Using {list_aggregation_method[p]} aggregation : \")\n",
    "    display(get_dataframe[p])"
   ]
  },
  {
   "attachments": {},
   "cell_type": "markdown",
   "metadata": {},
   "source": [
    "### ROC plot curve comparison : "
   ]
  },
  {
   "cell_type": "code",
   "execution_count": null,
   "metadata": {},
   "outputs": [],
   "source": [
    "list_model = get_dataframe[0].columns.values\n",
    "\n",
    "for agg in list_aggregation_method:\n",
    "    save_path = os.path.join(results_path,\"proba_methods\",agg)\n",
    "    print(f\"Using {agg} aggregation : \")\n",
    "    comparison_roc_pr_mean_curve(save_path,list_model)"
   ]
  }
 ],
 "metadata": {
  "kernelspec": {
   "display_name": ".venv",
   "language": "python",
   "name": "python3"
  },
  "language_info": {
   "codemirror_mode": {
    "name": "ipython",
    "version": 3
   },
   "file_extension": ".py",
   "mimetype": "text/x-python",
   "name": "python",
   "nbconvert_exporter": "python",
   "pygments_lexer": "ipython3",
   "version": "3.10.12"
  },
  "vscode": {
   "interpreter": {
    "hash": "1e9b5c13aa136530306b9d0fda952fcd75969540fafdedb30f13be0697230024"
   }
  }
 },
 "nbformat": 4,
 "nbformat_minor": 2
}
