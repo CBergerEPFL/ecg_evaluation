{
 "cells": [
  {
   "cell_type": "code",
   "execution_count": null,
   "metadata": {},
   "outputs": [],
   "source": [
    "import findspark\n",
    "findspark.init()\n",
    "from pyspark.sql import SparkSession\n",
    "from pyspark.sql.functions import split,col,filter,isnan,when\n",
    "from pyspark.sql.types import StringType,IntegerType\n",
    "import pandas as pd\n",
    "import matplotlib.pyplot as plt\n",
    "from petastorm import make_reader\n",
    "from petastorm.unischema import Unischema,UnischemaField\n",
    "from petastorm.etl.dataset_metadata import materialize_dataset\n",
    "from petastorm.codecs import ScalarCodec,NdarrayCodec\n",
    "from petastorm.predicates import in_pseudorandom_split\n",
    "from petastorm.transform import TransformSpec\n",
    "import numpy as np\n",
    "import os\n",
    "import sys\n",
    "import matplotlib.pyplot as plt"
   ]
  },
  {
   "cell_type": "markdown",
   "metadata": {},
   "source": [
    "## Trial : How to read physionet dataset\n"
   ]
  },
  {
   "cell_type": "markdown",
   "metadata": {},
   "source": [
    "### Set path"
   ]
  },
  {
   "cell_type": "code",
   "execution_count": null,
   "metadata": {},
   "outputs": [],
   "source": [
    "path_dataset = \"/workspaces/ecg_evaluation/data/mit-bih-noise-stress-test-database-1.0.0\"\n",
    "if (not os.path.exists(path_dataset)):\n",
    "    os.makedirs(path_dataset)"
   ]
  },
  {
   "cell_type": "markdown",
   "metadata": {},
   "source": [
    "### How physionet Dataset are organized"
   ]
  },
  {
   "cell_type": "markdown",
   "metadata": {},
   "source": [
    "Physionet dataset have the following format:\n",
    "- __.dat__ files : Binary files containing amples of digitized signals. They store the waveformes but have no header\n",
    "- __.hea__ files : Text file containing description of the content associated with the signals.\n",
    "- __.atr__ files : Binary files containing the labels for a dataset"
   ]
  },
  {
   "cell_type": "markdown",
   "metadata": {},
   "source": [
    "#### Example"
   ]
  },
  {
   "cell_type": "code",
   "execution_count": null,
   "metadata": {},
   "outputs": [],
   "source": [
    "import wfdb\n",
    "#record = wfdb.rdrecord(\"/workspaces/ecg_evaluation/data/20221006_physio_quality/mit-bih-noise-stress-test-database-1.0.0/old/119_02\") \n",
    "#wfdb.plot_wfdb(record, title='test') \n",
    "\n",
    "\n",
    "data = wfdb.rdsamp(\"/workspaces/ecg_evaluation/data/mit-bih-noise-stress-test-database-1.0.0/bw\")\n",
    "print(data[1])\n",
    "real_data = data[0][:,0]\n",
    "\n",
    "plt.plot(real_data)\n",
    "plt.xlim([0,3600])\n"
   ]
  }
 ],
 "metadata": {
  "kernelspec": {
   "display_name": ".venv",
   "language": "python",
   "name": "python3"
  },
  "language_info": {
   "codemirror_mode": {
    "name": "ipython",
    "version": 3
   },
   "file_extension": ".py",
   "mimetype": "text/x-python",
   "name": "python",
   "nbconvert_exporter": "python",
   "pygments_lexer": "ipython3",
   "version": "3.10.12"
  }
 },
 "nbformat": 4,
 "nbformat_minor": 2
}
