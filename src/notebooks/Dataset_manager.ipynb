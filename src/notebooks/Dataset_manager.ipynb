{
 "cells": [
  {
   "cell_type": "code",
   "execution_count": null,
   "metadata": {},
   "outputs": [],
   "source": [
    "import findspark\n",
    "findspark.init()\n",
    "from pyspark.sql import SparkSession\n",
    "from pyspark.sql.functions import split,col,filter,isnan,when\n",
    "from pyspark.sql.types import StringType,IntegerType\n",
    "import pandas as pd\n",
    "import matplotlib.pyplot as plt\n",
    "from petastorm.unischema import Unischema,UnischemaField\n",
    "from petastorm.etl.dataset_metadata import materialize_dataset\n",
    "from petastorm.codecs import ScalarCodec,NdarrayCodec\n",
    "from petastorm.transform import TransformSpec\n",
    "import numpy as np\n",
    "import psutil\n",
    "import os\n",
    "import sys\n",
    "#sys.path.append(os.path.join(os.getcwd(), \"..\"))\n",
    "from operations.dataset_manager import get_dataset"
   ]
  },
  {
   "cell_type": "markdown",
   "metadata": {},
   "source": [
    "## Get your dataset "
   ]
  },
  {
   "cell_type": "code",
   "execution_count": null,
   "metadata": {},
   "outputs": [],
   "source": [
    "name = \"mit-bih-noise-stress-test-database-1.0.0\"\n",
    "dataset = get_dataset(name,fs=500,time_window=10)"
   ]
  },
  {
   "cell_type": "code",
   "execution_count": null,
   "metadata": {},
   "outputs": [],
   "source": [
    "data_test = dataset[\"118e00\"]"
   ]
  },
  {
   "cell_type": "markdown",
   "metadata": {},
   "source": [
    "## Create data parquet file (the parquet scheme will be given)"
   ]
  },
  {
   "cell_type": "markdown",
   "metadata": {},
   "source": [
    "### Checking your cpu core and usage"
   ]
  },
  {
   "cell_type": "code",
   "execution_count": null,
   "metadata": {},
   "outputs": [],
   "source": [
    "##Check number of cpu core and memory\n",
    "print(os.cpu_count())\n",
    "# Getting % usage of virtual_memory ( 3rd field)\n",
    "print('RAM memory % used:', psutil.virtual_memory()[2])\n",
    "# Getting usage of virtual_memory in GB ( 4th field)\n",
    "print('RAM Used (GB):', psutil.virtual_memory()[3]/1000000000)"
   ]
  },
  {
   "cell_type": "markdown",
   "metadata": {},
   "source": [
    "### Ceating a Spark session"
   ]
  },
  {
   "cell_type": "code",
   "execution_count": null,
   "metadata": {},
   "outputs": [],
   "source": [
    "spark = SparkSession.builder.appName('MyfirstSpark').config('spark.driver.memory', '2g').getOrCreate()"
   ]
  },
  {
   "cell_type": "markdown",
   "metadata": {},
   "source": [
    "### Unischem use"
   ]
  },
  {
   "cell_type": "code",
   "execution_count": null,
   "metadata": {},
   "outputs": [],
   "source": [
    "ECGSchemaPhysio = Unischema(\n",
    "    \"ECGSchema\",\n",
    "    [\n",
    "        UnischemaField(\"noun_id\", np.string_, (), ScalarCodec(StringType()), False),\n",
    "        UnischemaField(\"signal_names\", np.string_, (None,None), NdarrayCodec(), False),\n",
    "        UnischemaField(\"signal\", np.float32, (None, None, None), NdarrayCodec(), False),\n",
    "        UnischemaField(\"number_of_window\", np.int64, (None,), NdarrayCodec(), False),\n",
    "        UnischemaField(\"score_classes\", np.int64, (None,), NdarrayCodec(), False),\n",
    "        UnischemaField(\"signal_length\", np.int_, (), ScalarCodec(IntegerType()), False),\n",
    "        UnischemaField(\"sampling_frequency\", np.int_, (), ScalarCodec(IntegerType()), False),\n",
    "    ],\n",
    ")"
   ]
  }
 ],
 "metadata": {
  "kernelspec": {
   "display_name": ".venv",
   "language": "python",
   "name": "python3"
  },
  "language_info": {
   "codemirror_mode": {
    "name": "ipython",
    "version": 3
   },
   "file_extension": ".py",
   "mimetype": "text/x-python",
   "name": "python",
   "nbconvert_exporter": "python",
   "pygments_lexer": "ipython3",
   "version": "3.10.12"
  }
 },
 "nbformat": 4,
 "nbformat_minor": 2
}
