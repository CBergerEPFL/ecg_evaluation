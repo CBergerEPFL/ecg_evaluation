{
 "cells": [
  {
   "cell_type": "code",
   "execution_count": null,
   "metadata": {},
   "outputs": [],
   "source": [
    "import findspark\n",
    "findspark.init()\n",
    "from pyspark.sql import SparkSession\n",
    "from pyspark.sql.functions import split,col,filter,isnan,when\n",
    "from pyspark.sql.types import StringType,IntegerType\n",
    "import pandas as pd\n",
    "import matplotlib.pyplot as plt\n",
    "from petastorm.unischema import Unischema,UnischemaField,dict_to_spark_row\n",
    "from petastorm.etl.dataset_metadata import materialize_dataset\n",
    "from petastorm.codecs import ScalarCodec,NdarrayCodec\n",
    "from petastorm.transform import TransformSpec\n",
    "import numpy as np\n",
    "import psutil\n",
    "import os\n",
    "import sys\n",
    "sys.path.append(os.path.join(os.getcwd(), \"..\"))\n",
    "from operations.dataset_manager import get_dataset"
   ]
  },
  {
   "cell_type": "markdown",
   "metadata": {},
   "source": [
    "## Get your dataset "
   ]
  },
  {
   "cell_type": "code",
   "execution_count": null,
   "metadata": {},
   "outputs": [],
   "source": [
    "name = \"mit-bih-noise-stress-test-database-1.0.0\"\n",
    "dataset = get_dataset(name,fs=500,time_window = 10)"
   ]
  },
  {
   "cell_type": "markdown",
   "metadata": {},
   "source": [
    "## Create data parquet file (the parquet scheme will be given)"
   ]
  },
  {
   "cell_type": "markdown",
   "metadata": {},
   "source": [
    "### Checking your cpu core and usage"
   ]
  },
  {
   "cell_type": "code",
   "execution_count": null,
   "metadata": {},
   "outputs": [],
   "source": [
    "##Check number of cpu core and memory\n",
    "print(os.cpu_count())\n",
    "# Getting % usage of virtual_memory ( 3rd field)\n",
    "print('RAM memory % used:', psutil.virtual_memory()[2])\n",
    "# Getting usage of virtual_memory in GB ( 4th field)\n",
    "print('RAM Used (GB):', psutil.virtual_memory()[3]/1000000000)"
   ]
  },
  {
   "cell_type": "markdown",
   "metadata": {},
   "source": [
    "### Ceating a Spark session"
   ]
  },
  {
   "cell_type": "code",
   "execution_count": null,
   "metadata": {},
   "outputs": [],
   "source": [
    "spark = SparkSession.builder.appName('MyfirstSpark').config('spark.driver.memory', '2g').getOrCreate()"
   ]
  },
  {
   "cell_type": "markdown",
   "metadata": {},
   "source": [
    "### Unischema use (This is the one we use! please provide your unischema)"
   ]
  },
  {
   "cell_type": "code",
   "execution_count": null,
   "metadata": {},
   "outputs": [],
   "source": [
    "ECGSchemaPhysio = Unischema(\n",
    "    \"ECGSchema\",\n",
    "    [\n",
    "        UnischemaField(\"noun_id\", np.string_, (), ScalarCodec(StringType()), False),\n",
    "        UnischemaField(\"signal\", np.float64, (None,None,None), NdarrayCodec(), False),\n",
    "        UnischemaField(\"fs\", np.int_, (), ScalarCodec(IntegerType()), False),\n",
    "        UnischemaField(\"sig_len\", np.int_, (), ScalarCodec(IntegerType()), False),\n",
    "        UnischemaField(\"sig_name\", np.string_, (None,), NdarrayCodec(), False),\n",
    "        UnischemaField(\"n_sig\", np.int_, (), ScalarCodec(IntegerType()), False),\n",
    "        UnischemaField(\"base_date\", np.string_, (), ScalarCodec(StringType()), True),\n",
    "        UnischemaField(\"base_time\", np.string_, (), ScalarCodec(StringType()), True),\n",
    "        UnischemaField(\"units\", np.string_, (None,), NdarrayCodec(), False),\n",
    "        UnischemaField(\"comments\", np.string_, (None,), NdarrayCodec(), False),\n",
    "        UnischemaField(\"nb_time_window\", np.int_, (), ScalarCodec(IntegerType()), False),\n",
    "    ],\n",
    ")"
   ]
  },
  {
   "cell_type": "markdown",
   "metadata": {},
   "source": [
    "### Create path for saving\n"
   ]
  },
  {
   "cell_type": "code",
   "execution_count": null,
   "metadata": {},
   "outputs": [],
   "source": [
    "test_path = \"/workspaces/ecg_evaluation/data/mit-bih-noise-stress-test-database-1.0.0\"\n",
    "save_path = \"/workspaces/ecg_evaluation/data/mit-bih-noise-stress-test-database-1.0.0/ParquetFile\"\n",
    "\n",
    "if not os.path.isdir(save_path):\n",
    "    os.mkdir(save_path)"
   ]
  },
  {
   "cell_type": "markdown",
   "metadata": {},
   "source": [
    "### Conversion of one sample into Parquet file"
   ]
  },
  {
   "cell_type": "markdown",
   "metadata": {},
   "source": [
    "#### Conversion will be done using Petastorm"
   ]
  },
  {
   "cell_type": "code",
   "execution_count": null,
   "metadata": {},
   "outputs": [],
   "source": [
    "row_group_size_mb = 256\n",
    "sc = spark.sparkContext\n",
    "rows_count = 10\n",
    "test_data = dataset[0]\n",
    "df_f = spark.createDataFrame(test_data,ECGSchemaPhysio.as_spark_schema())\n",
    "df_f.show()\n",
    "# with materialize_dataset(spark,save_path,ECGSchemaPhysio,row_group_size_mb):\n",
    "\n",
    "#     spark.createDataFrame(rows_rdd,ECGSchemaPhysio.as_spark_schema())\\\n",
    "#         .coalesce(10)\\\n",
    "#         .write\\\n",
    "#         .mode(\"overwrite\")\\\n",
    "#         .parquet(save_path)"
   ]
  }
 ],
 "metadata": {
  "kernelspec": {
   "display_name": ".venv",
   "language": "python",
   "name": "python3"
  },
  "language_info": {
   "codemirror_mode": {
    "name": "ipython",
    "version": 3
   },
   "file_extension": ".py",
   "mimetype": "text/x-python",
   "name": "python",
   "nbconvert_exporter": "python",
   "pygments_lexer": "ipython3",
   "version": "3.10.12"
  }
 },
 "nbformat": 4,
 "nbformat_minor": 2
}
