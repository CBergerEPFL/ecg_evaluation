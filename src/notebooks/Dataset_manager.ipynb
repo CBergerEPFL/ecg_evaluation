{
 "cells": [
  {
   "cell_type": "code",
   "execution_count": null,
   "metadata": {},
   "outputs": [],
   "source": [
    "import findspark\n",
    "findspark.init()\n",
    "from pyspark.sql import SparkSession\n",
    "from pyspark.sql.functions import split,col,filter,isnan,when\n",
    "from pyspark.sql.types import StringType,IntegerType\n",
    "import pandas as pd\n",
    "import matplotlib.pyplot as plt\n",
    "from petastorm import make_reader\n",
    "from petastorm.unischema import Unischema,UnischemaField\n",
    "from petastorm.etl.dataset_metadata import materialize_dataset\n",
    "from petastorm.codecs import ScalarCodec,NdarrayCodec\n",
    "from petastorm.predicates import in_pseudorandom_split\n",
    "from petastorm.transform import TransformSpec\n",
    "import numpy as np\n",
    "import os\n",
    "import sys\n",
    "import wfdb\n",
    "import matplotlib.pyplot as plt\n",
    "sys.path.append(os.path.join(os.getcwd(), \"..\"))\n",
    "from operations.dataset_manager import Physionet_reader"
   ]
  },
  {
   "cell_type": "code",
   "execution_count": null,
   "metadata": {},
   "outputs": [],
   "source": [
    "name = \"mit-bih-noise-stress-test-database-1.0.0\"\n",
    "Physionet_reader(name)"
   ]
  },
  {
   "cell_type": "markdown",
   "metadata": {},
   "source": [
    "## Trial : How to read physionet dataset\n"
   ]
  },
  {
   "cell_type": "markdown",
   "metadata": {},
   "source": [
    "### Set path"
   ]
  },
  {
   "cell_type": "code",
   "execution_count": null,
   "metadata": {},
   "outputs": [],
   "source": [
    "path_dataset = \"/workspaces/ecg_evaluation/data/mit-bih-noise-stress-test-database-1.0.0\"\n",
    "if (not os.path.exists(path_dataset)):\n",
    "    os.makedirs(path_dataset)"
   ]
  },
  {
   "cell_type": "markdown",
   "metadata": {},
   "source": [
    "### How physionet Dataset are organized"
   ]
  },
  {
   "cell_type": "markdown",
   "metadata": {},
   "source": [
    "Physionet dataset have the following format:\n",
    "- __.dat__ files : Binary files containing amples of digitized signals. They store the waveformes but have no header\n",
    "- __.hea__ files : Text file containing description of the content associated with the signals.\n",
    "- __.atr__ files : Binary files containing the labels for a dataset"
   ]
  },
  {
   "cell_type": "markdown",
   "metadata": {},
   "source": [
    "#### Example"
   ]
  },
  {
   "cell_type": "code",
   "execution_count": null,
   "metadata": {},
   "outputs": [],
   "source": [
    "data = wfdb.rdsamp(\"/workspaces/ecg_evaluation/data/mit-bih-noise-stress-test-database-1.0.0/118e_6\")\n",
    "print(data[1])\n",
    "real_data = data[0][:,0]\n",
    "plt.plot(real_data)\n",
    "plt.xlim([0,3600])\n"
   ]
  },
  {
   "cell_type": "markdown",
   "metadata": {},
   "source": [
    "### Data sample at 360 Hz. Need resampling to 500 Hz"
   ]
  },
  {
   "cell_type": "code",
   "execution_count": null,
   "metadata": {},
   "outputs": [],
   "source": [
    "## number of signal\n",
    "nb_signal = data[1][\"n_sig\"]\n",
    "## Desire time\n",
    "time_window = 10\n",
    "##Original sampling frequency\n",
    "fs_ori = data[1]['fs']\n",
    "##new sampling frequency \n",
    "fs_new = 500\n",
    "##new length signal\n",
    "N_old = data[1]['sig_len']\n",
    "N_new = fs_new*time_window\n",
    "## Calculate duration of the total signal\n",
    "time_tot = N_old/fs_ori\n",
    "\n",
    "\n",
    "## First, we have to resample the signal into 500 Hz.\n",
    "scale  = fs_new/fs_ori\n",
    "##new sample length\n",
    "N_res = int(N_old*(fs_new/fs_ori))\n",
    "resample_data = np.zeros([N_res,nb_signal])\n",
    "\n",
    "for sig in range(nb_signal):\n",
    "    sig_to_resamp = data[0][:,sig]\n",
    "    resample_data[:,sig] = np.interp(np.linspace(0,time_tot,N_res,endpoint = False),\n",
    "                                   np.linspace(0,time_tot,N_old,endpoint = False),\n",
    "                                   sig_to_resamp)\n",
    "\n",
    "print(resample_data.shape)\n",
    "## Number of chunks : \n",
    "n = int(N_res/N_new)\n",
    "## Array containing all the new sample (shape : [nb_signal,nb_chunk,N_new])\n",
    "new_dataset = np.zeros([nb_signal,n,N_new])\n",
    "for s in range(nb_signal):\n",
    "    sig_study = resample_data[:,s]\n",
    "    for chunks in range(n):\n",
    "        new_dataset[s,chunks,:] = sig_study[N_new*chunks:N_new*(chunks+1)]\n",
    "\n",
    "print(new_dataset.shape)\n",
    "\n",
    "\n",
    "\n"
   ]
  }
 ],
 "metadata": {
  "kernelspec": {
   "display_name": ".venv",
   "language": "python",
   "name": "python3"
  },
  "language_info": {
   "codemirror_mode": {
    "name": "ipython",
    "version": 3
   },
   "file_extension": ".py",
   "mimetype": "text/x-python",
   "name": "python",
   "nbconvert_exporter": "python",
   "pygments_lexer": "ipython3",
   "version": "3.10.12"
  }
 },
 "nbformat": 4,
 "nbformat_minor": 2
}
