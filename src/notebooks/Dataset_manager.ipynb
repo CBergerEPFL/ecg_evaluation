{
 "cells": [
  {
   "cell_type": "code",
   "execution_count": null,
   "metadata": {},
   "outputs": [],
   "source": [
    "import findspark\n",
    "findspark.init()\n",
    "from pyspark.sql import SparkSession\n",
    "from pyspark.sql.functions import split,col,filter,isnan,when\n",
    "from pyspark.sql.types import StringType,IntegerType\n",
    "import pandas as pd\n",
    "import matplotlib.pyplot as plt\n",
    "from petastorm import make_reader\n",
    "from petastorm.unischema import Unischema,UnischemaField\n",
    "from petastorm.etl.dataset_metadata import materialize_dataset\n",
    "from petastorm.codecs import ScalarCodec,NdarrayCodec\n",
    "from petastorm.predicates import in_pseudorandom_split\n",
    "from petastorm.transform import TransformSpec\n",
    "import numpy as np\n",
    "import os\n",
    "import sys\n",
    "import wfdb\n",
    "sys.path.append(os.path.join(os.getcwd(), \"..\"))\n",
    "from operations.dataset_manager import get_dataset"
   ]
  },
  {
   "cell_type": "markdown",
   "metadata": {},
   "source": [
    "## Get your dataset "
   ]
  },
  {
   "cell_type": "code",
   "execution_count": null,
   "metadata": {},
   "outputs": [],
   "source": [
    "name = \"mit-bih-noise-stress-test-database-1.0.0\"\n",
    "dataset = get_dataset(name,time_window=10,fs=500)"
   ]
  },
  {
   "cell_type": "code",
   "execution_count": null,
   "metadata": {},
   "outputs": [],
   "source": [
    "print(dataset[\"118e00\"][0].shape)\n",
    "plt.plot(dataset[\"118e00\"][0][0,0,:])"
   ]
  },
  {
   "cell_type": "markdown",
   "metadata": {},
   "source": [
    "#### Example"
   ]
  }
 ],
 "metadata": {
  "kernelspec": {
   "display_name": ".venv",
   "language": "python",
   "name": "python3"
  },
  "language_info": {
   "codemirror_mode": {
    "name": "ipython",
    "version": 3
   },
   "file_extension": ".py",
   "mimetype": "text/x-python",
   "name": "python",
   "nbconvert_exporter": "python",
   "pygments_lexer": "ipython3",
   "version": "3.10.12"
  }
 },
 "nbformat": 4,
 "nbformat_minor": 2
}
